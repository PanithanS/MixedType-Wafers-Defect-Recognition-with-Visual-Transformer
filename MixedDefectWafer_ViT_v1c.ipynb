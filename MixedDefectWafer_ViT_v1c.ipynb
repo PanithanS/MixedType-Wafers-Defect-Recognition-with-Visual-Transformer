{
 "cells": [
  {
   "cell_type": "markdown",
   "id": "fcd4259e",
   "metadata": {},
   "source": [
    "# Visual transformer for mixed-type wafer defect pattern recognition\n",
    "- This notebook is belong to https://github.com/PanithanS/Visual-Transformer-Mixed-type-Wafers-Defect-Recognition"
   ]
  },
  {
   "cell_type": "code",
   "execution_count": 2,
   "id": "da6ab406",
   "metadata": {},
   "outputs": [
    {
     "data": {
      "text/html": [
       "\n",
       "<style>\n",
       "    div#notebook-container    { width: 80%; }\n",
       "    div#menubar-container     { width: 65%; }\n",
       "    div#maintoolbar-container { width: 80%; }\n",
       "</style>\n"
      ],
      "text/plain": [
       "<IPython.core.display.HTML object>"
      ]
     },
     "metadata": {},
     "output_type": "display_data"
    }
   ],
   "source": [
    "#pip install -U tensorflow-addons\n",
    "\n",
    "import numpy as np\n",
    "import tensorflow as tf\n",
    "from tensorflow import keras\n",
    "from tensorflow.keras import layers\n",
    "import tensorflow_addons as tfa\n",
    "import matplotlib.pyplot as plt\n",
    "from sklearn.model_selection import train_test_split\n",
    "import pandas as pd\n",
    "import pickle\n",
    "\n",
    "import warnings\n",
    "warnings.filterwarnings('ignore')\n",
    "\n",
    "from IPython.display import display, clear_output, HTML\n",
    "display(HTML(data=\"\"\"\n",
    "<style>\n",
    "    div#notebook-container    { width: 80%; }\n",
    "    div#menubar-container     { width: 65%; }\n",
    "    div#maintoolbar-container { width: 80%; }\n",
    "</style>\n",
    "\"\"\"))"
   ]
  },
  {
   "cell_type": "code",
   "execution_count": 3,
   "id": "c79e2bfc",
   "metadata": {},
   "outputs": [],
   "source": [
    "class data_loader:\n",
    "    \n",
    "    def __init__(self, dataset_path, vis=False):\n",
    "        \n",
    "        \"\"\"this funtion is to initialize the data_loader class\n",
    "        \n",
    "        Args:\n",
    "            dataset_path(string): the dataset object address\n",
    "        \n",
    "        \"\"\"\n",
    "        \n",
    "        self.dataset_path = dataset_path\n",
    "        self.is_vis = vis\n",
    "        \n",
    "        # The list that use to translate the label to defects type\n",
    "        self.label_keys = [\"Center, \", \"Donut, \", \"Edge_Loc, \", \"Edge_Ring, \", \n",
    "                           \"Loc, \", \"Near_Full, \", \"Scratch, \", \"Random, \"]\n",
    "\n",
    "    def load_data(self):\n",
    "        \n",
    "        \"\"\"this funtion is to load data to the vaiable \"self.train\" and \"self.label\"  \"\"\"\n",
    "        \n",
    "        self.data = np.load(self.dataset_path)\n",
    "        self.train = self.data[\"arr_0\"]\n",
    "        self.label = self.data[\"arr_1\"]\n",
    "        \n",
    "        #print(\"data_x\",np.shape(self.train))\n",
    "        print(\"MixedWM38:\", np.shape(self.label)[0], 'wafer loaded')\n",
    "        \n",
    "    def prep_data(self):\n",
    "        \n",
    "        \"\"\"this funtion is to do train_test_split and format the data\"\"\"\n",
    "        \n",
    "        self.x_train, self.x_test, self.y_train, self.y_test = train_test_split(self.train, self.label, test_size = 0.2)\n",
    "        \n",
    "        # Make sure images have shape (Batch, image_size, image_size, channel)\n",
    "        self.x_train = np.expand_dims(self.x_train, -1)\n",
    "        self.x_test = np.expand_dims(self.x_test, -1)\n",
    "        \n",
    "        # Convert class vectors to right format\n",
    "        self.y_train = tf.convert_to_tensor(np.array(self.y_train))\n",
    "        self.y_test = tf.convert_to_tensor(np.array(self.y_test))\n",
    "    \n",
    "    def read_label(self, label, defect_types =''):\n",
    "        \n",
    "        \"\"\"this funtion is to translate the label into defect_types\n",
    "        \n",
    "        Args:\n",
    "            label(list): the label that indicate type of  defect, for instance [0 1 0 1 0 0 0 1]\n",
    "\n",
    "        Return:\n",
    "            defect_types(string): the string that indicate defect type\n",
    "        \"\"\"\n",
    "       \n",
    "        if np.sum(label) == 0:\n",
    "            defect_types = 'Normal wafer'\n",
    "        \n",
    "        else:\n",
    "            for digit in range(np.shape(label)[0]):\n",
    "\n",
    "                if label[digit] == 1:\n",
    "\n",
    "                    defect_types = defect_types + self.label_keys[digit]  \n",
    "        \n",
    "        return defect_types\n",
    "    \n",
    "    def see_wafer(self, wafer_num):\n",
    "        \n",
    "        \"\"\"this funtion is to see the defect pattern in idicated by wafer number\n",
    "        \n",
    "        \n",
    "        Args:\n",
    "            wafer_num(float): the index of loaded data in self.train\n",
    "\n",
    "        Return:\n",
    "            plot(oject): the plot image\n",
    "        \"\"\"\n",
    "        \n",
    "        defect_types = self.read_label(self.label[wafer_num])\n",
    "        \n",
    "        plt.title(\"wafer #\"+str(wafer_num))\n",
    "        plt.imshow(self.train[wafer_num])\n",
    "        plt.colorbar()\n",
    "        plt.show()\n",
    "        \n",
    "        print(\"Defect types=\", defect_types)\n",
    "        print(\"Labeled as:\", self.label[wafer_num])\n",
    "        \n",
    "    def get_data(self):\n",
    "        \n",
    "        \"\"\"this funtion is get the loaded data \n",
    "\n",
    "        Return:\n",
    "            x_train(array): image of defect pattern for model training\n",
    "            x_test(array): image of defect pattern for model validation\n",
    "            y_train(tensor): label of defect pattern for model training\n",
    "            y_test(tensor): label of defect pattern for model validation\n",
    "        \"\"\"\n",
    "            \n",
    "        self.load_data()\n",
    "        self.prep_data()\n",
    "        \n",
    "        return self.x_train, self.x_test, self.y_train, self.y_test"
   ]
  },
  {
   "cell_type": "code",
   "execution_count": 4,
   "id": "69cbdefc",
   "metadata": {},
   "outputs": [
    {
     "name": "stdout",
     "output_type": "stream",
     "text": [
      "MixedWM38: 38015 wafer loaded\n"
     ]
    }
   ],
   "source": [
    "dataset_path = r'C:\\Users\\admin\\Desktop\\PanithanS\\Wafer_defect\\Wafer_Map_Datasets.npz'\n",
    "\n",
    "A1 = data_loader(dataset_path, vis=True)\n",
    "x_train, x_test, y_train, y_test = A1.get_data()"
   ]
  },
  {
   "cell_type": "code",
   "execution_count": 5,
   "id": "9bc2a665",
   "metadata": {},
   "outputs": [
    {
     "data": {
      "image/png": "[encoded data removed]",
      "text/plain": [
       "<Figure size 432x288 with 2 Axes>"
      ]
     },
     "metadata": {
      "needs_background": "light"
     },
     "output_type": "display_data"
    },
    {
     "name": "stdout",
     "output_type": "stream",
     "text": [
      "Defect types= Donut, Edge_Ring, Loc, \n",
      "Labeled as: [0 1 0 1 1 0 0 0]\n"
     ]
    }
   ],
   "source": [
    "# 2 type\n",
    "A1.see_wafer(20000)"
   ]
  },
  {
   "cell_type": "code",
   "execution_count": 6,
   "id": "f3832867",
   "metadata": {},
   "outputs": [
    {
     "data": {
      "image/png": "[encoded data removed]",
      "text/plain": [
       "<Figure size 432x288 with 2 Axes>"
      ]
     },
     "metadata": {
      "needs_background": "light"
     },
     "output_type": "display_data"
    },
    {
     "name": "stdout",
     "output_type": "stream",
     "text": [
      "Defect types= Edge_Ring, Scratch, \n",
      "Labeled as: [0 0 0 1 0 0 1 0]\n"
     ]
    }
   ],
   "source": [
    "# 2 type\n",
    "A1.see_wafer(36015)"
   ]
  },
  {
   "cell_type": "code",
   "execution_count": 7,
   "id": "3500b5e2",
   "metadata": {},
   "outputs": [
    {
     "data": {
      "image/png": "[encoded data removed]",
      "text/plain": [
       "<Figure size 432x288 with 2 Axes>"
      ]
     },
     "metadata": {
      "needs_background": "light"
     },
     "output_type": "display_data"
    },
    {
     "name": "stdout",
     "output_type": "stream",
     "text": [
      "Defect types= Donut, Edge_Ring, Loc, Scratch, \n",
      "Labeled as: [0 1 0 1 1 0 1 0]\n"
     ]
    }
   ],
   "source": [
    "# 4 type\n",
    "A1.see_wafer(19005)"
   ]
  },
  {
   "cell_type": "code",
   "execution_count": 8,
   "id": "73cb3aa3",
   "metadata": {},
   "outputs": [
    {
     "data": {
      "image/png": "[encoded data removed]",
      "text/plain": [
       "<Figure size 432x288 with 2 Axes>"
      ]
     },
     "metadata": {
      "needs_background": "light"
     },
     "output_type": "display_data"
    },
    {
     "name": "stdout",
     "output_type": "stream",
     "text": [
      "Defect types= Normal wafer\n",
      "Labeled as: [0 0 0 0 0 0 0 0]\n"
     ]
    }
   ],
   "source": [
    "# Normal\n",
    "A1.see_wafer(33866)"
   ]
  },
  {
   "cell_type": "code",
   "execution_count": 9,
   "id": "db0338f3",
   "metadata": {},
   "outputs": [
    {
     "data": {
      "image/png": "[encoded data removed]",
      "text/plain": [
       "<Figure size 432x288 with 2 Axes>"
      ]
     },
     "metadata": {
      "needs_background": "light"
     },
     "output_type": "display_data"
    },
    {
     "name": "stdout",
     "output_type": "stream",
     "text": [
      "Defect types= Center, \n",
      "Labeled as: [1 0 0 0 0 0 0 0]\n"
     ]
    }
   ],
   "source": [
    "# 1 type\n",
    "A1.see_wafer(12000)"
   ]
  },
  {
   "cell_type": "code",
   "execution_count": 10,
   "id": "2028356e",
   "metadata": {},
   "outputs": [
    {
     "data": {
      "image/png": "[encoded data removed]",
      "text/plain": [
       "<Figure size 432x288 with 2 Axes>"
      ]
     },
     "metadata": {
      "needs_background": "light"
     },
     "output_type": "display_data"
    },
    {
     "name": "stdout",
     "output_type": "stream",
     "text": [
      "Defect types= Donut, \n",
      "Labeled as: [0 1 0 0 0 0 0 0]\n"
     ]
    }
   ],
   "source": [
    "# 1 type\n",
    "A1.see_wafer(24000)"
   ]
  },
  {
   "cell_type": "markdown",
   "id": "ca2d8d54",
   "metadata": {},
   "source": [
    "#  Visual transformer model and training"
   ]
  },
  {
   "cell_type": "code",
   "execution_count": 24,
   "id": "8b90c7ee",
   "metadata": {},
   "outputs": [],
   "source": [
    "class vis_transformer:\n",
    "     \n",
    "    def __init__(self, x_train, x_test, y_train, y_test):\n",
    "        \n",
    "        \"\"\"this funtion is to initialize the vis_transformer class\n",
    "        \n",
    "        Args:\n",
    "            x_train(array): image of defect pattern for model training\n",
    "            x_test(array): image of defect pattern for model validation\n",
    "            y_train(tensor): label of defect pattern for model training\n",
    "            y_test(tensor): label of defect pattern for model validation\n",
    "\n",
    "        \"\"\"\n",
    "        \n",
    "        self.x_train = x_train\n",
    "        self.x_test = x_test\n",
    "        self.y_train = y_train\n",
    "        self.y_test = y_test\n",
    "        \n",
    "        (_, self.image_size, b, c) = np.shape(self.x_train) # We'll resize input images to this size\n",
    "        \n",
    "        self.input_shape = (self.image_size, self.image_size, c)\n",
    "\n",
    "        self.label_size = np.shape(y_test)[1]\n",
    "        self.patch_size = 13  # Size of the patches to be extract from the input images\n",
    "        self.num_patches = (self.image_size // self.patch_size) ** 2\n",
    "\n",
    "        self.projection_dim = 96\n",
    "        self.num_heads = 4\n",
    "        self.transformer_units = [self.projection_dim * 2, self.projection_dim,]  # Size of the transformer layers\n",
    "        self.transformer_layers = 16\n",
    "        self.mlp_head_units = [2048, 1024]  # Size of the dense layers of the final classifier\n",
    "        \n",
    "    def augmentation(self):\n",
    "        \n",
    "        \"\"\"this funtion is as oject function to do data augmentation\"\"\"\n",
    "        \n",
    "        data_augmentation = keras.Sequential(\n",
    "            [\n",
    "                tf.keras.layers.experimental.preprocessing.Normalization(),\n",
    "                tf.keras.layers.experimental.preprocessing.RandomRotation(factor=0.02),\n",
    "                tf.keras.layers.experimental.preprocessing.RandomZoom(height_factor=0.2, width_factor=0.2),\n",
    "            ], name=\"data_augmentation\",)\n",
    "\n",
    "        # Compute the mean and the variance of the training data for normalization.\n",
    "        data_augmentation.layers[0].adapt(self.x_train)\n",
    "        \n",
    "        \n",
    "    def mlp(self, x, hidden_units, dropout_rate):\n",
    "        \n",
    "        \"\"\"this funtion is multilayer perceptron(mpl) head\n",
    "        \n",
    "        Args:\n",
    "            hidden_units(list): the hidden dimenstion of the mpl\n",
    "            dropout_rate(float): dropout rate of mpl\n",
    "\n",
    "        \"\"\"\n",
    "        \n",
    "        for units in hidden_units:\n",
    "\n",
    "            x = layers.Dense(units, activation=tf.nn.gelu)(x)\n",
    "            x = layers.Dropout(dropout_rate)(x)\n",
    "\n",
    "        return x\n",
    "\n",
    "    def get_patches(self, images):\n",
    "                \n",
    "        \"\"\"this funtion is to split image into patches of \"self.patch_size\" x \"self.patch_size\"\n",
    "        \n",
    "        Args:\n",
    "            images(array): the images to applied patches\n",
    "\n",
    "        Return:\n",
    "            patches(array): the image patches\n",
    "        \n",
    "        \"\"\"\n",
    "            \n",
    "        batch_size = tf.shape(images)[0]\n",
    "        patches = tf.image.extract_patches(\n",
    "            images=images,\n",
    "            sizes=[1, self.patch_size, self.patch_size, 1],\n",
    "            strides=[1, self.patch_size, self.patch_size, 1],\n",
    "            rates=[1, 1, 1, 1],\n",
    "            padding=\"VALID\",\n",
    "        )\n",
    "        patch_dims = patches.shape[-1]\n",
    "        \n",
    "        patches = tf.reshape(patches, [batch_size, -1, patch_dims])\n",
    "        \n",
    "        return patches\n",
    "    \n",
    "    def see_patches(self, image, num_image):\n",
    "        \n",
    "        patches = self.get_patches(image)\n",
    "        \n",
    "        image = self.x_train[num_image]\n",
    "        plt.imshow(image)\n",
    "        plt.clim(0,2)\n",
    "        plt.axis(\"off\")\n",
    "\n",
    "        resized_image = tf.image.resize(tf.convert_to_tensor([image]), size=(self.image_size, self.image_size))\n",
    "        \n",
    "        patches = self.get_patches(resized_image)\n",
    "        \n",
    "        print(f\"Image size: {self.image_size} X {self.image_size}\")\n",
    "        print(f\"Patch size: {self.patch_size} X {self.patch_size}\")\n",
    "        print(f\"Patches per image: {patches.shape[1]}\")\n",
    "        print(f\"Elements per patch: {patches.shape[-1]}\")\n",
    "        print(f\"Num patch:\", self.num_patches)\n",
    "\n",
    "        n = int(np.sqrt(patches.shape[1]))\n",
    "        plt.figure(figsize=(4, 4))\n",
    "        for i, patch in enumerate(patches[0]):\n",
    "            ax = plt.subplot(n, n, i + 1)\n",
    "            patch_img = tf.reshape(patch, (self.patch_size, self.patch_size))\n",
    "            plt.imshow(patch_img.numpy())\n",
    "            plt.clim(0,2)\n",
    "            plt.axis(\"off\")\n",
    "        \n",
    "        print(np.shape(patches))\n",
    "        \n",
    "    def get_patchencoder(self, patch):\n",
    "        \n",
    "        \"\"\"this funtion is encode the patch as projection on dense layer with position embedding \n",
    "        \n",
    "        Args:\n",
    "            patch(array): the images to applied patches\n",
    "\n",
    "        Return:\n",
    "            encoded(oject): the encoded patches\n",
    "        \n",
    "        \"\"\"\n",
    "        \n",
    "        self.projection = layers.Dense(units=self.projection_dim)\n",
    "        self.position_embedding = layers.Embedding(input_dim=self.num_patches, output_dim=self.projection_dim)\n",
    "\n",
    "        positions = tf.range(start=0, limit=self.num_patches, delta=1)\n",
    "        encoded = self.projection(patch) + self.position_embedding(positions)\n",
    "\n",
    "        return encoded\n",
    "    \n",
    "    def create_model(self):\n",
    "        \n",
    "        \"\"\"this funtion is to create visual transformer\n",
    "        \n",
    "        Return:\n",
    "            model(object): visual transformer model\n",
    "        \n",
    "        \"\"\"\n",
    "        inputs = layers.Input(shape=(52,52,1))\n",
    "\n",
    "        # Augment data.\n",
    "        images = inputs #data_augmentation(inputs)\n",
    "\n",
    "        # Create patches.\n",
    "        patches = self.get_patches(images)\n",
    "\n",
    "        # Encode patches.\n",
    "        encoded_patches = self.get_patchencoder(patches)\n",
    "\n",
    "        #print(np.shape(encoded_patches))\n",
    "\n",
    "        # Create multiple layers of the Transformer block.\n",
    "\n",
    "        for _ in range(self.transformer_layers):\n",
    "\n",
    "            # Layer normalization 1.\n",
    "            x1 = layers.LayerNormalization(epsilon=1e-6)(encoded_patches)\n",
    "\n",
    "            # Create a multi-head attention layer.\n",
    "            attention_output = layers.MultiHeadAttention(num_heads=self.num_heads, key_dim=self.projection_dim, dropout=0.1)(x1, x1)\n",
    "\n",
    "            #print(np.shape(attention_output))\n",
    "\n",
    "            # Skip connection 1.\n",
    "            x2 = layers.Add()([attention_output, encoded_patches])\n",
    "\n",
    "            # Layer normalization 2.\n",
    "            x3 = layers.LayerNormalization(epsilon=1e-6)(x2)\n",
    "\n",
    "            # MLP.\n",
    "            x3 = self.mlp(x3, hidden_units=self.transformer_units, dropout_rate=0.1)\n",
    "\n",
    "            # Skip connection 2.\n",
    "            encoded_patches = layers.Add()([x3, x2])\n",
    "\n",
    "        #print('encoded_patches:', np.shape(encoded_patches))\n",
    "\n",
    "        # Create a [batch_size, projection_dim] tensor.\n",
    "        representation = layers.LayerNormalization(epsilon=1e-6)(encoded_patches)\n",
    "        representation = layers.Flatten()(representation)\n",
    "        representation = layers.Dropout(0.2)(representation)\n",
    "\n",
    "        #print('representation:', np.shape(representation))\n",
    "\n",
    "        # Add MLP.\n",
    "        features = self.mlp(representation, hidden_units=self.mlp_head_units, dropout_rate=0.5)\n",
    "\n",
    "        #print('features:', np.shape(features))\n",
    "\n",
    "        # Classify outputs.\n",
    "        #features = layers.Dense(label_size*2, kernel_initializer='he_uniform', activation='relu')(features)\n",
    "        logits = layers.Dense(self.label_size, activation='sigmoid')(features)\n",
    "\n",
    "        # Create the Keras model.\n",
    "        model = keras.Model(inputs=inputs, outputs=logits)\n",
    "\n",
    "        #print(model.summary())\n",
    "\n",
    "        return model\n",
    "    \n",
    "    \n",
    "    def train_model(self, batch_size = 512, num_epochs = 40, save_path='none'):\n",
    "        \n",
    "        \"\"\"this funtion is to train the visual transformer model\n",
    "        \n",
    "        Args:\n",
    "            batch_size(float): training batch_size\n",
    "            num_epochs(float): training num_epochs\n",
    "            num_epochs(string): model oject address, and it will be use for history saving file too\n",
    "        \n",
    "        Return:\n",
    "            history(dict): training history\n",
    "        \n",
    "        \"\"\"\n",
    "        self.model_vit = self.create_model()\n",
    "        \n",
    "        if save_path != 'none':\n",
    "            print(\"set model-saving: \" + save_path )\n",
    "            print(\"set history-saving: \" + save_path+'_history' )\n",
    "        \n",
    "        lr_schedule = keras.optimizers.schedules.ExponentialDecay(initial_learning_rate=1e-3, decay_steps=10000, decay_rate=0.9)\n",
    "        opt = tf.keras.optimizers.Adam(lr_schedule)\n",
    "\n",
    "        self.model_vit.compile(optimizer=opt, loss='binary_crossentropy',metrics=keras.metrics.BinaryAccuracy(name=\"accuracy\"))\n",
    "\n",
    "        checkpoint_filepath = \"./tmp/checkpoint\"\n",
    "        checkpoint_callback = keras.callbacks.ModelCheckpoint(\n",
    "            checkpoint_filepath,\n",
    "            monitor=\"val_accuracy\",\n",
    "            save_best_only=True,\n",
    "            save_weights_only=True,\n",
    "        )\n",
    "\n",
    "        history = self.model_vit.fit(\n",
    "            x=self.x_train,\n",
    "            y=self.y_train,\n",
    "            batch_size=batch_size,\n",
    "            epochs=num_epochs,\n",
    "            validation_split=0.1,\n",
    "            callbacks=[checkpoint_callback],\n",
    "        )\n",
    "\n",
    "        self.model_vit.load_weights(checkpoint_filepath)\n",
    "        _, accuracy = self.model_vit.evaluate(self.x_test, self.y_test)\n",
    "        print(f\"Test accuracy: {round(accuracy * 100, 2)}%\")\n",
    "        \n",
    "        if save_path!= 'none':\n",
    "            self.model_vit.save_weights(save_path)\n",
    "            \n",
    "            with open(save_path+'_history', 'wb') as file_pi:\n",
    "                pickle.dump(history.history, file_pi)\n",
    "        \n",
    "        return history\n",
    "    \n",
    "    def load_model(self, path, plot=False):\n",
    "        \n",
    "        \"\"\"this funtion is to load the training weight of the visual transformer model\n",
    "        \n",
    "        Args:\n",
    "            path(string): model oject address, and it will be use for history loading file too\n",
    "        \n",
    "        Return:\n",
    "            self.model_vit(oject): the visual transformer model with loaded weight\n",
    "        \n",
    "        \"\"\"\n",
    "            \n",
    "        try:\n",
    "            del self.model_vit\n",
    "        except:\n",
    "            print(\"load model\")\n",
    "        \n",
    "        self.model_vit = self.create_model()\n",
    "        self.model_vit.load_weights(path)\n",
    "        lr_schedule = keras.optimizers.schedules.ExponentialDecay(initial_learning_rate=1e-3, decay_steps=10000, decay_rate=0.9)\n",
    "        opt = tf.keras.optimizers.Adam(lr_schedule)\n",
    "\n",
    "        self.model_vit.compile(optimizer=opt, loss='binary_crossentropy',metrics=keras.metrics.BinaryAccuracy(name=\"accuracy\"))\n",
    "        \n",
    "        with open(path+'_history', \"rb\") as file_pi:\n",
    "            history = pickle.load(file_pi)\n",
    "        \n",
    "        if (plot):\n",
    "            # Plot training and validation loss\n",
    "            plt.figure(dpi=100)  # You can adjust the figure size if needed\n",
    "            \n",
    "            plt.plot(history['val_accuracy'], label='Validation accuracy')\n",
    "            plt.plot(history['accuracy'], label='Training accuracy')\n",
    "            \n",
    "            plt.plot(history['val_loss'], label='Validation loss')\n",
    "            plt.plot(history['loss'], label='Training Loss')\n",
    "            \n",
    "            plt.legend()\n",
    "            plt.xlabel('Epochs')\n",
    "            plt.ylabel('Loss')\n",
    "            plt.show()\n",
    "\n",
    "        return self.model_vit\n",
    "    \n",
    "    def model_eval(self, model, x_test, y_test):\n",
    "        \n",
    "        \"\"\"this funtion is for model accuracy checking\"\"\"\n",
    "        \n",
    "        loss, accuracy = model.evaluate(x_test, y_test)\n",
    "        \n",
    "        print(\"loss: \", loss, \"accuracy: \", accuracy )\n",
    "        print(f\"Test accuracy: {round(accuracy*100, 2)}%\")"
   ]
  },
  {
   "cell_type": "markdown",
   "id": "6b0cab05",
   "metadata": {},
   "source": [
    "###  Briefly check on the patches"
   ]
  },
  {
   "cell_type": "code",
   "execution_count": 33,
   "id": "a4f38c13",
   "metadata": {
    "scrolled": false
   },
   "outputs": [
    {
     "name": "stdout",
     "output_type": "stream",
     "text": [
      "Image size: 52 X 52\n",
      "Patch size: 13 X 13\n",
      "Patches per image: 16\n",
      "Elements per patch: 169\n",
      "Num patch: 16\n",
      "(1, 16, 169)\n"
     ]
    },
    {
     "data": {
      "image/png": "[encoded data removed]",
      "text/plain": [
       "<Figure size 432x288 with 1 Axes>"
      ]
     },
     "metadata": {
      "needs_background": "light"
     },
     "output_type": "display_data"
    },
    {
     "data": {
      "image/png": "[encoded data removed]",
      "text/plain": [
       "<Figure size 288x288 with 16 Axes>"
      ]
     },
     "metadata": {
      "needs_background": "light"
     },
     "output_type": "display_data"
    }
   ],
   "source": [
    "A_test_patches = vis_transformer(x_train, x_test, y_train, y_test)\n",
    "A_test_patches.see_patches(x_test, num_image=250)"
   ]
  },
  {
   "cell_type": "markdown",
   "id": "05575bc4",
   "metadata": {},
   "source": [
    "### ViT intitialize to train a new model or create the model for weight loading"
   ]
  },
  {
   "cell_type": "code",
   "execution_count": 6,
   "id": "e48633b3",
   "metadata": {
    "scrolled": false
   },
   "outputs": [
    {
     "name": "stdout",
     "output_type": "stream",
     "text": [
      "set model-saving: C:\\Users\\admin\\Desktop\\PanithanS\\Wafer_defect\\model_vit_v1b\n",
      "set history-saving: C:\\Users\\admin\\Desktop\\PanithanS\\Wafer_defect\\model_vit_v1b_history\n",
      "Epoch 1/45\n",
      "54/54 [==============================] - 293s 5s/step - loss: 0.6839 - accuracy: 0.6611 - val_loss: 0.5090 - val_accuracy: 0.7012\n",
      "Epoch 2/45\n",
      "54/54 [==============================] - 307s 6s/step - loss: 0.5495 - accuracy: 0.7035 - val_loss: 0.5124 - val_accuracy: 0.7105\n",
      "Epoch 3/45\n",
      "54/54 [==============================] - 322s 6s/step - loss: 0.5125 - accuracy: 0.7079 - val_loss: 0.5017 - val_accuracy: 0.7105\n",
      "Epoch 4/45\n",
      "54/54 [==============================] - 330s 6s/step - loss: 0.5036 - accuracy: 0.7099 - val_loss: 0.4933 - val_accuracy: 0.7388\n",
      "Epoch 5/45\n",
      "54/54 [==============================] - 319s 6s/step - loss: 0.4717 - accuracy: 0.7291 - val_loss: 0.3476 - val_accuracy: 0.8236\n",
      "Epoch 6/45\n",
      "54/54 [==============================] - 313s 6s/step - loss: 0.3527 - accuracy: 0.8130 - val_loss: 0.2504 - val_accuracy: 0.8777\n",
      "Epoch 7/45\n",
      "54/54 [==============================] - 294s 5s/step - loss: 0.2713 - accuracy: 0.8660 - val_loss: 0.1850 - val_accuracy: 0.9222\n",
      "Epoch 8/45\n",
      "54/54 [==============================] - 274s 5s/step - loss: 0.2009 - accuracy: 0.9128 - val_loss: 0.1366 - val_accuracy: 0.9511\n",
      "Epoch 9/45\n",
      "54/54 [==============================] - 271s 5s/step - loss: 0.1667 - accuracy: 0.9331 - val_loss: 0.1099 - val_accuracy: 0.9589\n",
      "Epoch 10/45\n",
      "54/54 [==============================] - 283s 5s/step - loss: 0.1391 - accuracy: 0.9464 - val_loss: 0.0953 - val_accuracy: 0.9663\n",
      "Epoch 11/45\n",
      "54/54 [==============================] - 271s 5s/step - loss: 0.1199 - accuracy: 0.9554 - val_loss: 0.0790 - val_accuracy: 0.9723\n",
      "Epoch 12/45\n",
      "54/54 [==============================] - 269s 5s/step - loss: 0.1055 - accuracy: 0.9613 - val_loss: 0.0701 - val_accuracy: 0.9762\n",
      "Epoch 13/45\n",
      "54/54 [==============================] - 269s 5s/step - loss: 0.0926 - accuracy: 0.9665 - val_loss: 0.0673 - val_accuracy: 0.9764\n",
      "Epoch 14/45\n",
      "54/54 [==============================] - 272s 5s/step - loss: 0.0951 - accuracy: 0.9664 - val_loss: 0.0562 - val_accuracy: 0.9811\n",
      "Epoch 15/45\n",
      "54/54 [==============================] - 271s 5s/step - loss: 0.0811 - accuracy: 0.9718 - val_loss: 0.0750 - val_accuracy: 0.9741\n",
      "Epoch 16/45\n",
      "54/54 [==============================] - 269s 5s/step - loss: 0.0798 - accuracy: 0.9714 - val_loss: 0.0669 - val_accuracy: 0.9751\n",
      "Epoch 17/45\n",
      "54/54 [==============================] - 269s 5s/step - loss: 0.0720 - accuracy: 0.9752 - val_loss: 0.0550 - val_accuracy: 0.9822\n",
      "Epoch 18/45\n",
      "54/54 [==============================] - 276s 5s/step - loss: 0.0605 - accuracy: 0.9795 - val_loss: 0.0481 - val_accuracy: 0.9839\n",
      "Epoch 19/45\n",
      "54/54 [==============================] - 298s 6s/step - loss: 0.0609 - accuracy: 0.9796 - val_loss: 0.0559 - val_accuracy: 0.9818\n",
      "Epoch 20/45\n",
      "54/54 [==============================] - 316s 6s/step - loss: 0.0570 - accuracy: 0.9807 - val_loss: 0.0511 - val_accuracy: 0.9836\n",
      "Epoch 21/45\n",
      "54/54 [==============================] - 296s 5s/step - loss: 0.0549 - accuracy: 0.9813 - val_loss: 0.0435 - val_accuracy: 0.9851\n",
      "Epoch 22/45\n",
      "54/54 [==============================] - 307s 6s/step - loss: 0.0483 - accuracy: 0.9835 - val_loss: 0.0481 - val_accuracy: 0.9842\n",
      "Epoch 23/45\n",
      "54/54 [==============================] - 303s 6s/step - loss: 0.0520 - accuracy: 0.9827 - val_loss: 0.0441 - val_accuracy: 0.9853\n",
      "Epoch 24/45\n",
      "54/54 [==============================] - 306s 6s/step - loss: 0.0460 - accuracy: 0.9849 - val_loss: 0.0422 - val_accuracy: 0.9871\n",
      "Epoch 25/45\n",
      "54/54 [==============================] - 310s 6s/step - loss: 0.0414 - accuracy: 0.9864 - val_loss: 0.0604 - val_accuracy: 0.9793\n",
      "Epoch 26/45\n",
      "54/54 [==============================] - 313s 6s/step - loss: 0.0457 - accuracy: 0.9849 - val_loss: 0.0415 - val_accuracy: 0.9873\n",
      "Epoch 27/45\n",
      "54/54 [==============================] - 325s 6s/step - loss: 0.0422 - accuracy: 0.9860 - val_loss: 0.0447 - val_accuracy: 0.9866\n",
      "Epoch 28/45\n",
      "54/54 [==============================] - 318s 6s/step - loss: 0.0411 - accuracy: 0.9864 - val_loss: 0.0557 - val_accuracy: 0.9841\n",
      "Epoch 29/45\n",
      "54/54 [==============================] - 332s 6s/step - loss: 0.0484 - accuracy: 0.9839 - val_loss: 0.0552 - val_accuracy: 0.9827\n",
      "Epoch 30/45\n",
      "54/54 [==============================] - 312s 6s/step - loss: 0.0397 - accuracy: 0.9867 - val_loss: 0.0421 - val_accuracy: 0.9876\n",
      "Epoch 31/45\n",
      "54/54 [==============================] - 309s 6s/step - loss: 0.0346 - accuracy: 0.9884 - val_loss: 0.0336 - val_accuracy: 0.9906\n",
      "Epoch 32/45\n",
      "54/54 [==============================] - 311s 6s/step - loss: 0.0301 - accuracy: 0.9902 - val_loss: 0.0430 - val_accuracy: 0.9870\n",
      "Epoch 33/45\n",
      "54/54 [==============================] - 304s 6s/step - loss: 0.0334 - accuracy: 0.9892 - val_loss: 0.0398 - val_accuracy: 0.9882\n",
      "Epoch 34/45\n",
      "54/54 [==============================] - 314s 6s/step - loss: 0.0331 - accuracy: 0.9886 - val_loss: 0.0353 - val_accuracy: 0.9888\n",
      "Epoch 35/45\n",
      "54/54 [==============================] - 309s 6s/step - loss: 0.0292 - accuracy: 0.9904 - val_loss: 0.0407 - val_accuracy: 0.9876\n",
      "Epoch 36/45\n",
      "54/54 [==============================] - 309s 6s/step - loss: 0.0309 - accuracy: 0.9896 - val_loss: 0.0406 - val_accuracy: 0.9879\n",
      "Epoch 37/45\n",
      "54/54 [==============================] - 332s 6s/step - loss: 0.0283 - accuracy: 0.9907 - val_loss: 0.0414 - val_accuracy: 0.9873\n",
      "Epoch 38/45\n",
      "54/54 [==============================] - 397s 7s/step - loss: 0.0279 - accuracy: 0.9909 - val_loss: 0.0359 - val_accuracy: 0.9901\n",
      "Epoch 39/45\n",
      "54/54 [==============================] - 313s 6s/step - loss: 0.0245 - accuracy: 0.9919 - val_loss: 0.0409 - val_accuracy: 0.9875\n",
      "Epoch 40/45\n",
      "54/54 [==============================] - 339s 6s/step - loss: 0.0272 - accuracy: 0.9906 - val_loss: 0.0340 - val_accuracy: 0.9906\n",
      "Epoch 41/45\n",
      "54/54 [==============================] - 322s 6s/step - loss: 0.0229 - accuracy: 0.9926 - val_loss: 0.0444 - val_accuracy: 0.9884\n",
      "Epoch 42/45\n",
      "54/54 [==============================] - 279s 5s/step - loss: 0.0276 - accuracy: 0.9910 - val_loss: 0.0424 - val_accuracy: 0.9864\n",
      "Epoch 43/45\n",
      "54/54 [==============================] - 302s 6s/step - loss: 0.0269 - accuracy: 0.9910 - val_loss: 0.0400 - val_accuracy: 0.9894\n",
      "Epoch 44/45\n",
      "54/54 [==============================] - 312s 6s/step - loss: 0.0251 - accuracy: 0.9918 - val_loss: 0.0393 - val_accuracy: 0.9898\n",
      "Epoch 45/45\n",
      "54/54 [==============================] - 301s 6s/step - loss: 0.0233 - accuracy: 0.9923 - val_loss: 0.0384 - val_accuracy: 0.9900\n",
      "238/238 [==============================] - 22s 93ms/step - loss: 0.0314 - accuracy: 0.98990s - loss: 0.0315 - accuracy: \n",
      "Test accuracy: 98.99%\n"
     ]
    }
   ],
   "source": [
    "A2 = vis_transformer(x_train, x_test, y_train, y_test)\n",
    "\n",
    "# model weight file to be loaded\n",
    "path = r\"C:\\Users\\admin\\Desktop\\PanithanS\\Wafer_defect\\model_vit_v1b\"\n",
    "\n",
    "# If train new model\n",
    "history = A2.train_model(batch_size = 512, num_epochs = 45, save_path=path)"
   ]
  },
  {
   "cell_type": "markdown",
   "id": "48dd9ffd",
   "metadata": {},
   "source": [
    "### Load the trained model and evaluate accuracy of the trained model"
   ]
  },
  {
   "cell_type": "code",
   "execution_count": 7,
   "id": "d93e93b4",
   "metadata": {},
   "outputs": [
    {
     "data": {
      "image/png": "[encoded data removed]",
      "text/plain": [
       "<Figure size 600x400 with 1 Axes>"
      ]
     },
     "metadata": {
      "needs_background": "light"
     },
     "output_type": "display_data"
    },
    {
     "name": "stdout",
     "output_type": "stream",
     "text": [
      "238/238 [==============================] - 24s 88ms/step - loss: 0.0318 - accuracy: 0.9895\n",
      "loss:  0.031736329197883606 accuracy:  0.9898066520690918\n",
      "Test accuracy: 98.98%\n"
     ]
    }
   ],
   "source": [
    "model = A2.load_model(path, plot=True)\n",
    "A2.model_eval(model, x_test, y_test)"
   ]
  },
  {
   "cell_type": "markdown",
   "id": "47be9a1f",
   "metadata": {},
   "source": [
    "# Prediction"
   ]
  },
  {
   "cell_type": "code",
   "execution_count": 8,
   "id": "d5ccbe97",
   "metadata": {},
   "outputs": [
    {
     "name": "stdout",
     "output_type": "stream",
     "text": [
      "238/238 [==============================] - 22s 83ms/step\n"
     ]
    }
   ],
   "source": [
    "prediction = model.predict(x_test, verbose=1)"
   ]
  },
  {
   "cell_type": "code",
   "execution_count": 19,
   "id": "3b544749",
   "metadata": {},
   "outputs": [
    {
     "name": "stdout",
     "output_type": "stream",
     "text": [
      "Ground-truth: [0 1 0 0 0 0 1 0]\n",
      "Predictions : [0 1 0 0 0 0 1 0]\n"
     ]
    },
    {
     "data": {
      "image/png": "[encoded data removed]",
      "text/plain": [
       "<Figure size 432x288 with 1 Axes>"
      ]
     },
     "metadata": {
      "needs_background": "light"
     },
     "output_type": "display_data"
    },
    {
     "name": "stdout",
     "output_type": "stream",
     "text": [
      "Predictions : Donut, Scratch, \n"
     ]
    }
   ],
   "source": [
    "pred_img_num = 900\n",
    "image = np.squeeze(x_test[pred_img_num,:,:,0])\n",
    "#print(\"Model output:\", (prediction[pred_img_num,:]))\n",
    "print(\"Ground-truth:\", np.array(y_test[pred_img_num,:]))\n",
    "print(\"Predictions : [\" + \" \".join([\"{:.0f}\".format(val) for val in prediction[pred_img_num]]) + \"]\")\n",
    "\n",
    "plt.imshow(image)\n",
    "plt.show()\n",
    "\n",
    "label = np.array([\"{:.0f}\".format(val) for val in prediction[pred_img_num]]).astype(float)\n",
    "print(\"Predictions :\", A1.read_label(label))"
   ]
  },
  {
   "cell_type": "code",
   "execution_count": 25,
   "id": "a6d0afe5",
   "metadata": {},
   "outputs": [
    {
     "name": "stdout",
     "output_type": "stream",
     "text": [
      "Ground-truth: [0 1 1 0 1 0 1 0]\n",
      "Predictions : [0 1 1 0 1 0 1 0]\n"
     ]
    },
    {
     "data": {
      "image/png": "[encoded data removed]",
      "text/plain": [
       "<Figure size 432x288 with 1 Axes>"
      ]
     },
     "metadata": {
      "needs_background": "light"
     },
     "output_type": "display_data"
    },
    {
     "name": "stdout",
     "output_type": "stream",
     "text": [
      "Predictions : Donut, Edge_Loc, Loc, Scratch, \n"
     ]
    }
   ],
   "source": [
    "pred_img_num = 500\n",
    "image = np.squeeze(x_test[pred_img_num,:,:,0])\n",
    "#print(\"Model output:\", (prediction[pred_img_num,:]))\n",
    "print(\"Ground-truth:\", np.array(y_test[pred_img_num,:]))\n",
    "print(\"Predictions : [\" + \" \".join([\"{:.0f}\".format(val) for val in prediction[pred_img_num]]) + \"]\")\n",
    "\n",
    "plt.imshow(image)\n",
    "plt.show()\n",
    "\n",
    "label = np.array([\"{:.0f}\".format(val) for val in prediction[pred_img_num]]).astype(float)\n",
    "print(\"Predictions :\", A1.read_label(label))"
   ]
  },
  {
   "cell_type": "code",
   "execution_count": 28,
   "id": "206a3ef7",
   "metadata": {},
   "outputs": [
    {
     "name": "stdout",
     "output_type": "stream",
     "text": [
      "Ground-truth: [1 0 0 0 1 0 1 0]\n",
      "Predictions : [1 0 0 0 1 0 1 0]\n"
     ]
    },
    {
     "data": {
      "image/png": "[encoded data removed]",
      "text/plain": [
       "<Figure size 432x288 with 1 Axes>"
      ]
     },
     "metadata": {
      "needs_background": "light"
     },
     "output_type": "display_data"
    },
    {
     "name": "stdout",
     "output_type": "stream",
     "text": [
      "Predictions : Center, Loc, Scratch, \n"
     ]
    }
   ],
   "source": [
    "pred_img_num = 3000\n",
    "image = np.squeeze(x_test[pred_img_num,:,:,0])\n",
    "#print(\"Model output:\", (prediction[pred_img_num,:]))\n",
    "print(\"Ground-truth:\", np.array(y_test[pred_img_num,:]))\n",
    "print(\"Predictions : [\" + \" \".join([\"{:.0f}\".format(val) for val in prediction[pred_img_num]]) + \"]\")\n",
    "\n",
    "plt.imshow(image)\n",
    "plt.show()\n",
    "\n",
    "label = np.array([\"{:.0f}\".format(val) for val in prediction[pred_img_num]]).astype(float)\n",
    "print(\"Predictions :\", A1.read_label(label))"
   ]
  },
  {
   "cell_type": "code",
   "execution_count": null,
   "id": "d88171f2",
   "metadata": {},
   "outputs": [],
   "source": []
  }
 ],
 "metadata": {
  "kernelspec": {
   "display_name": "Python 3",
   "language": "python",
   "name": "python3"
  },
  "language_info": {
   "codemirror_mode": {
    "name": "ipython",
    "version": 3
   },
   "file_extension": ".py",
   "mimetype": "text/x-python",
   "name": "python",
   "nbconvert_exporter": "python",
   "pygments_lexer": "ipython3",
   "version": "3.6.13"
  }
 },
 "nbformat": 4,
 "nbformat_minor": 5
}
