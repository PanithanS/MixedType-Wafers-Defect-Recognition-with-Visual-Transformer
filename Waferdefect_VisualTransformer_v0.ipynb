{
 "cells": [
  {
   "cell_type": "code",
   "execution_count": 1,
   "id": "da6ab406",
   "metadata": {},
   "outputs": [
    {
     "data": {
      "text/html": [
       "\n",
       "<style>\n",
       "    div#notebook-container    { width: 80%; }\n",
       "    div#menubar-container     { width: 65%; }\n",
       "    div#maintoolbar-container { width: 80%; }\n",
       "</style>\n"
      ],
      "text/plain": [
       "<IPython.core.display.HTML object>"
      ]
     },
     "metadata": {},
     "output_type": "display_data"
    }
   ],
   "source": [
    "import numpy as np\n",
    "import tensorflow as tf\n",
    "from tensorflow import keras\n",
    "from tensorflow.keras import layers\n",
    "import tensorflow_addons as tfa\n",
    "import matplotlib.pyplot as plt\n",
    "from sklearn.model_selection import train_test_split\n",
    "import pandas as pd\n",
    "\n",
    "from IPython.display import display, clear_output, HTML\n",
    "display(HTML(data=\"\"\"\n",
    "<style>\n",
    "    div#notebook-container    { width: 80%; }\n",
    "    div#menubar-container     { width: 65%; }\n",
    "    div#maintoolbar-container { width: 80%; }\n",
    "</style>\n",
    "\"\"\"))"
   ]
  },
  {
   "cell_type": "code",
   "execution_count": 2,
   "id": "686ddb5e",
   "metadata": {},
   "outputs": [
    {
     "name": "stdout",
     "output_type": "stream",
     "text": [
      "['arr_0', 'arr_1']\n"
     ]
    }
   ],
   "source": [
    "#load data\n",
    "dataset_path = r'C:\\Users\\admin\\Desktop\\PanithanS\\Wafer_defect\\Wafer_Map_Datasets.npz'\n",
    "data = np.load(dataset_path)\n",
    "print(data.files)"
   ]
  },
  {
   "cell_type": "code",
   "execution_count": 3,
   "id": "0778fcc7",
   "metadata": {},
   "outputs": [
    {
     "name": "stdout",
     "output_type": "stream",
     "text": [
      "(38015, 52, 52)\n",
      "(38015, 8)\n",
      "[1 0 1 0 0 0 1 0]\n"
     ]
    },
    {
     "data": {
      "image/png": "[encoded data removed]",
      "text/plain": [
       "<Figure size 432x288 with 2 Axes>"
      ]
     },
     "metadata": {
      "needs_background": "light"
     },
     "output_type": "display_data"
    }
   ],
   "source": [
    "#Vis\n",
    "num = 100\n",
    "train = data[\"arr_0\"]\n",
    "print(np.shape(train))\n",
    "\n",
    "image = train[num]\n",
    "plt.imshow(image)\n",
    "plt.colorbar()\n",
    "\n",
    "label = data[\"arr_1\"]\n",
    "print(np.shape(label))\n",
    "print(label[num])"
   ]
  },
  {
   "cell_type": "code",
   "execution_count": 5,
   "id": "bea9b0e3",
   "metadata": {},
   "outputs": [],
   "source": [
    "x_train, x_test, y_train, y_test = train_test_split(train, label, test_size = 0.2)\n",
    "\n",
    "# Make sure images have shape (28, 28, 1)\n",
    "x_train = np.expand_dims(x_train, -1)\n",
    "x_test = np.expand_dims(x_test, -1)\n",
    "\n",
    "(_, a, b, c) = np.shape(x_train) # We'll resize input images to this size\n",
    "image_size = a"
   ]
  },
  {
   "cell_type": "code",
   "execution_count": 6,
   "id": "8ade6de4",
   "metadata": {},
   "outputs": [
    {
     "name": "stdout",
     "output_type": "stream",
     "text": [
      "(30412, 52, 52, 1)\n",
      "(7603, 8)\n"
     ]
    }
   ],
   "source": [
    "print(np.shape(x_train))\n",
    "print(np.shape(y_test))"
   ]
  },
  {
   "cell_type": "code",
   "execution_count": 7,
   "id": "391fc52a",
   "metadata": {},
   "outputs": [],
   "source": [
    "# Convert class vectors to right format\n",
    "y_train = tf.convert_to_tensor(np.array(y_train))\n",
    "y_test = tf.convert_to_tensor(np.array(y_test))"
   ]
  },
  {
   "cell_type": "code",
   "execution_count": 8,
   "id": "179e0cd3",
   "metadata": {},
   "outputs": [],
   "source": [
    "data_augmentation = keras.Sequential(\n",
    "    [\n",
    "        tf.keras.layers.experimental.preprocessing.Normalization(),\n",
    "        #layers.Resizing(image_size, image_size),\n",
    "        #layers.RandomFlip(\"horizontal\"),\n",
    "        tf.keras.layers.experimental.preprocessing.RandomRotation(factor=0.02),\n",
    "        tf.keras.layers.experimental.preprocessing.RandomZoom(\n",
    "            height_factor=0.2, width_factor=0.2\n",
    "        ),\n",
    "    ],\n",
    "    name=\"data_augmentation\",\n",
    ")\n",
    "# Compute the mean and the variance of the training data for normalization.\n",
    "data_augmentation.layers[0].adapt(x_train)"
   ]
  },
  {
   "cell_type": "code",
   "execution_count": 9,
   "id": "d1de083b",
   "metadata": {},
   "outputs": [],
   "source": [
    "(_, a, b, c) = np.shape(x_train) # We'll resize input images to this size\n",
    "input_shape = (a, b, c)\n",
    "\n",
    "image_size = a\n",
    "patch_size = 13  # Size of the patches to be extract from the input images\n",
    "num_patches = (image_size // patch_size) ** 2\n",
    "projection_dim = 128\n",
    "num_heads = 4\n",
    "transformer_units = [\n",
    "    projection_dim * 2,\n",
    "    projection_dim,\n",
    "]  # Size of the transformer layers\n",
    "transformer_layers = 32\n",
    "mlp_head_units = [1536, 1024]  # Size of the dense layers of the final classifier"
   ]
  },
  {
   "cell_type": "code",
   "execution_count": 10,
   "id": "75cd3c52",
   "metadata": {},
   "outputs": [],
   "source": [
    "input_shape = (a, b, c)\n",
    "label_size = 8\n",
    "patch_size = 13  # Size of the patches to be extract from the input images\n",
    "num_patches = (image_size // patch_size) ** 2\n",
    "\n",
    "projection_dim = 96\n",
    "num_heads = 4\n",
    "transformer_units = [projection_dim * 2, projection_dim,]  # Size of the transformer layers\n",
    "transformer_layers = 16\n",
    "mlp_head_units = [2048, 1024]  # Size of the dense layers of the final classifier\n",
    "\n",
    "def mlp(x, hidden_units, dropout_rate):\n",
    "    \n",
    "    for units in hidden_units:\n",
    "        x = layers.Dense(units, activation=tf.nn.gelu)(x)\n",
    "        x = layers.Dropout(dropout_rate)(x)\n",
    "    return x\n",
    "\n",
    "class Patches(layers.Layer):\n",
    "    \n",
    "    def __init__(self, patch_size):\n",
    "        super().__init__()\n",
    "        self.patch_size = patch_size\n",
    "\n",
    "    def call(self, images):\n",
    "        batch_size = tf.shape(images)[0]\n",
    "        patches = tf.image.extract_patches(\n",
    "            images=images,\n",
    "            sizes=[1, self.patch_size, self.patch_size, 1],\n",
    "            strides=[1, self.patch_size, self.patch_size, 1],\n",
    "            rates=[1, 1, 1, 1],\n",
    "            padding=\"VALID\",\n",
    "        )\n",
    "        patch_dims = patches.shape[-1]\n",
    "        patches = tf.reshape(patches, [batch_size, -1, patch_dims])\n",
    "        return patches"
   ]
  },
  {
   "cell_type": "code",
   "execution_count": 11,
   "id": "4a1dcac1",
   "metadata": {},
   "outputs": [
    {
     "name": "stdout",
     "output_type": "stream",
     "text": [
      "Image size: 52 X 52\n",
      "Patch size: 13 X 13\n",
      "Patches per image: 16\n",
      "Elements per patch: 169\n",
      "Num patch: 16\n"
     ]
    },
    {
     "data": {
      "image/png": "[encoded data removed]",
      "text/plain": [
       "<Figure size 432x288 with 1 Axes>"
      ]
     },
     "metadata": {
      "needs_background": "light"
     },
     "output_type": "display_data"
    },
    {
     "data": {
      "image/png": "[encoded data removed]",
      "text/plain": [
       "<Figure size 288x288 with 16 Axes>"
      ]
     },
     "metadata": {
      "needs_background": "light"
     },
     "output_type": "display_data"
    }
   ],
   "source": [
    "# plt.figure(figsize=(4, 4))\n",
    "image = x_train[np.random.choice(range(x_train.shape[0]))]\n",
    "plt.imshow(image)\n",
    "plt.axis(\"off\")\n",
    "\n",
    "resized_image = tf.image.resize(\n",
    "    tf.convert_to_tensor([image]), size=(image_size, image_size)\n",
    ")\n",
    "patches = Patches(patch_size)(resized_image)\n",
    "print(f\"Image size: {image_size} X {image_size}\")\n",
    "print(f\"Patch size: {patch_size} X {patch_size}\")\n",
    "print(f\"Patches per image: {patches.shape[1]}\")\n",
    "print(f\"Elements per patch: {patches.shape[-1]}\")\n",
    "print(f\"Num patch:\", num_patches)\n",
    "\n",
    "n = int(np.sqrt(patches.shape[1]))\n",
    "plt.figure(figsize=(4, 4))\n",
    "for i, patch in enumerate(patches[0]):\n",
    "    ax = plt.subplot(n, n, i + 1)\n",
    "    patch_img = tf.reshape(patch, (patch_size, patch_size))\n",
    "    plt.imshow(patch_img.numpy())\n",
    "    plt.clim(0,2)\n",
    "    plt.axis(\"off\")"
   ]
  },
  {
   "cell_type": "markdown",
   "id": "1265013f",
   "metadata": {},
   "source": [
    "# Model"
   ]
  },
  {
   "cell_type": "code",
   "execution_count": 12,
   "id": "24462ffc",
   "metadata": {
    "scrolled": false
   },
   "outputs": [],
   "source": [
    "class PatchEncoder(layers.Layer):\n",
    "    \n",
    "    def __init__(self, num_patches, projection_dim):\n",
    "        super().__init__()\n",
    "        self.num_patches = num_patches\n",
    "        self.projection = layers.Dense(units=projection_dim)\n",
    "        self.position_embedding = layers.Embedding(input_dim=num_patches, output_dim=projection_dim)\n",
    "\n",
    "    def call(self, patch):\n",
    "        positions = tf.range(start=0, limit=self.num_patches, delta=1)\n",
    "        encoded = self.projection(patch) + self.position_embedding(positions)\n",
    "        \n",
    "        return encoded\n",
    "    \n",
    "def create_vit_classifier():\n",
    "    \n",
    "    inputs = layers.Input(shape=(52,52,1))\n",
    "    \n",
    "    # Augment data.\n",
    "    augmented = inputs #data_augmentation(inputs)\n",
    "    \n",
    "    # Create patches.\n",
    "    patches = Patches(patch_size)(augmented)\n",
    "    \n",
    "    # Encode patches.\n",
    "    encoded_patches = PatchEncoder(num_patches, projection_dim)(patches)\n",
    "    \n",
    "    #print(np.shape(encoded_patches))\n",
    "\n",
    "    # Create multiple layers of the Transformer block.\n",
    "    \n",
    "    for _ in range(transformer_layers):\n",
    "        \n",
    "        # Layer normalization 1.\n",
    "        x1 = layers.LayerNormalization(epsilon=1e-6)(encoded_patches)\n",
    "        \n",
    "        # Create a multi-head attention layer.\n",
    "        attention_output = layers.MultiHeadAttention(num_heads=num_heads, key_dim=projection_dim, dropout=0.1)(x1, x1)\n",
    "        \n",
    "        #print(np.shape(attention_output))\n",
    "        \n",
    "        # Skip connection 1.\n",
    "        x2 = layers.Add()([attention_output, encoded_patches])\n",
    "        \n",
    "        \n",
    "        \n",
    "        # Layer normalization 2.\n",
    "        x3 = layers.LayerNormalization(epsilon=1e-6)(x2)\n",
    "        \n",
    "        # MLP.\n",
    "        x3 = mlp(x3, hidden_units=transformer_units, dropout_rate=0.1)\n",
    "        \n",
    "        # Skip connection 2.\n",
    "        encoded_patches = layers.Add()([x3, x2])\n",
    "    \n",
    "    print('encoded_patches:', np.shape(encoded_patches))\n",
    "    \n",
    "    # Create a [batch_size, projection_dim] tensor.\n",
    "    representation = layers.LayerNormalization(epsilon=1e-6)(encoded_patches)\n",
    "    representation = layers.Flatten()(representation)\n",
    "    representation = layers.Dropout(0.2)(representation)\n",
    "    \n",
    "    print('representation:', np.shape(representation))\n",
    "    \n",
    "    # Add MLP.\n",
    "    features = mlp(representation, hidden_units=mlp_head_units, dropout_rate=0.5)\n",
    "    \n",
    "    print('features:', np.shape(features))\n",
    "    \n",
    "    # Classify outputs.\n",
    "    #features = layers.Dense(label_size*2, kernel_initializer='he_uniform', activation='relu')(features)\n",
    "    logits = layers.Dense(label_size, activation='sigmoid')(features)\n",
    "    \n",
    "    # Create the Keras model.\n",
    "    model = keras.Model(inputs=inputs, outputs=logits)\n",
    "    \n",
    "    #print(model.summary())\n",
    "    \n",
    "    return model"
   ]
  },
  {
   "cell_type": "markdown",
   "id": "fcd4259e",
   "metadata": {},
   "source": [
    "# To pick correct 'activation function' according to the output label\n",
    "- https://towardsdatascience.com/deep-learning-which-loss-and-activation-functions-should-i-use-ac02f1c56aa8\n",
    "- Dataset: https://www.kaggle.com/datasets/co1d7era/mixedtype-wafer-defect-datasets"
   ]
  },
  {
   "cell_type": "markdown",
   "id": "27a97f3e",
   "metadata": {},
   "source": [
    "##### tf2.4.0: https://docs.w3cub.com/tensorflow~2.4/keras/optimizers/adamax"
   ]
  },
  {
   "cell_type": "code",
   "execution_count": 17,
   "id": "7faac6a6",
   "metadata": {
    "scrolled": false
   },
   "outputs": [
    {
     "name": "stdout",
     "output_type": "stream",
     "text": [
      "encoded_patches: (None, 16, 96)\n",
      "representation: (None, 1536)\n",
      "features: (None, 1024)\n",
      "Epoch 1/20\n",
      "54/54 [==============================] - 329s 6s/step - loss: 0.7210 - accuracy: 0.6595 - val_loss: 0.5005 - val_accuracy: 0.7071\n",
      "Epoch 2/20\n",
      "54/54 [==============================] - 313s 6s/step - loss: 0.5113 - accuracy: 0.7068 - val_loss: 0.4442 - val_accuracy: 0.7355\n",
      "Epoch 3/20\n",
      "54/54 [==============================] - 305s 6s/step - loss: 0.4893 - accuracy: 0.7191 - val_loss: 0.3672 - val_accuracy: 0.7991\n",
      "Epoch 4/20\n",
      "54/54 [==============================] - 324s 6s/step - loss: 0.3444 - accuracy: 0.8155 - val_loss: 0.3020 - val_accuracy: 0.8508\n",
      "Epoch 5/20\n",
      "54/54 [==============================] - 327s 6s/step - loss: 0.2623 - accuracy: 0.8739 - val_loss: 0.1557 - val_accuracy: 0.9366\n",
      "Epoch 6/20\n",
      "54/54 [==============================] - 333s 6s/step - loss: 0.1753 - accuracy: 0.9265 - val_loss: 0.1126 - val_accuracy: 0.9581\n",
      "Epoch 7/20\n",
      "54/54 [==============================] - 345s 6s/step - loss: 0.1607 - accuracy: 0.9354 - val_loss: 0.0925 - val_accuracy: 0.9666\n",
      "Epoch 8/20\n",
      "54/54 [==============================] - 340s 6s/step - loss: 0.1170 - accuracy: 0.9562 - val_loss: 0.0842 - val_accuracy: 0.9709\n",
      "Epoch 9/20\n",
      "54/54 [==============================] - 318s 6s/step - loss: 0.1007 - accuracy: 0.9629 - val_loss: 0.0907 - val_accuracy: 0.9664\n",
      "Epoch 10/20\n",
      "54/54 [==============================] - 309s 6s/step - loss: 0.0899 - accuracy: 0.9676 - val_loss: 0.0714 - val_accuracy: 0.9763\n",
      "Epoch 11/20\n",
      "54/54 [==============================] - 278s 5s/step - loss: 0.0893 - accuracy: 0.9683 - val_loss: 0.0633 - val_accuracy: 0.9774\n",
      "Epoch 12/20\n",
      "54/54 [==============================] - 328s 6s/step - loss: 0.0738 - accuracy: 0.9740 - val_loss: 0.0548 - val_accuracy: 0.9811\n",
      "Epoch 13/20\n",
      "54/54 [==============================] - 295s 5s/step - loss: 0.0731 - accuracy: 0.9741 - val_loss: 0.0555 - val_accuracy: 0.9825\n",
      "Epoch 14/20\n",
      "54/54 [==============================] - 288s 5s/step - loss: 0.0623 - accuracy: 0.9785 - val_loss: 0.0846 - val_accuracy: 0.9705\n",
      "Epoch 15/20\n",
      "54/54 [==============================] - 274s 5s/step - loss: 0.0614 - accuracy: 0.9790 - val_loss: 0.0493 - val_accuracy: 0.9836\n",
      "Epoch 16/20\n",
      "54/54 [==============================] - 294s 5s/step - loss: 0.0570 - accuracy: 0.9802 - val_loss: 0.0488 - val_accuracy: 0.9845\n",
      "Epoch 17/20\n",
      "54/54 [==============================] - 277s 5s/step - loss: 0.0537 - accuracy: 0.9814 - val_loss: 0.0450 - val_accuracy: 0.9856\n",
      "Epoch 18/20\n",
      "54/54 [==============================] - 276s 5s/step - loss: 0.0450 - accuracy: 0.9845 - val_loss: 0.0447 - val_accuracy: 0.9843\n",
      "Epoch 19/20\n",
      "54/54 [==============================] - 276s 5s/step - loss: 0.0457 - accuracy: 0.9844 - val_loss: 0.0428 - val_accuracy: 0.9857\n",
      "Epoch 20/20\n",
      "54/54 [==============================] - 281s 5s/step - loss: 0.0447 - accuracy: 0.9856 - val_loss: 0.0463 - val_accuracy: 0.9835\n",
      "238/238 [==============================] - 26s 110ms/step - loss: 0.0424 - accuracy: 0.9856\n",
      "Test accuracy: 98.56%\n"
     ]
    }
   ],
   "source": [
    "def run_experiment(model):\n",
    "    \n",
    "    lr_schedule = keras.optimizers.schedules.ExponentialDecay(\n",
    "    initial_learning_rate=1e-3,\n",
    "    decay_steps=10000,\n",
    "    decay_rate=0.9)\n",
    "    \n",
    "    opt = tf.keras.optimizers.Adam(lr_schedule)\n",
    "    \n",
    "#     model.compile(optimizer=opt,\n",
    "#                   loss=keras.losses.BinaryCrossentropy(reduction=tf.keras.losses.Reduction.SUM), \n",
    "#                   metrics=keras.metrics.BinaryAccuracy(name=\"accuracy\"))\n",
    "\n",
    "    model.compile(optimizer=opt,\n",
    "                  loss='binary_crossentropy', \n",
    "                  metrics=keras.metrics.BinaryAccuracy(name=\"accuracy\"))\n",
    "\n",
    "    checkpoint_filepath = \"./tmp/checkpoint\"\n",
    "    checkpoint_callback = keras.callbacks.ModelCheckpoint(\n",
    "        checkpoint_filepath,\n",
    "        monitor=\"val_accuracy\",\n",
    "        save_best_only=True,\n",
    "        save_weights_only=True,\n",
    "    )\n",
    "    \n",
    "    batch_size = 512\n",
    "    num_epochs = 20\n",
    "    \n",
    "    history = model.fit(\n",
    "        x=x_train,\n",
    "        y=y_train,\n",
    "        batch_size=batch_size,\n",
    "        epochs=num_epochs,\n",
    "        validation_split=0.1,\n",
    "        callbacks=[checkpoint_callback],\n",
    "    )\n",
    "\n",
    "    model.load_weights(checkpoint_filepath)\n",
    "    _, accuracy = model.evaluate(x_test, y_test)\n",
    "    print(f\"Test accuracy: {round(accuracy * 100, 2)}%\")\n",
    "    #print(f\"Test top 5 accuracy: {round(top_5_accuracy * 100, 2)}%\")\n",
    "\n",
    "    return history\n",
    "\n",
    "model_vit = create_vit_classifier()\n",
    "history = run_experiment(model_vit)"
   ]
  },
  {
   "cell_type": "code",
   "execution_count": 18,
   "id": "9f058e9a",
   "metadata": {},
   "outputs": [
    {
     "name": "stdout",
     "output_type": "stream",
     "text": [
      "238/238 [==============================] - 24s 99ms/step - loss: 0.0424 - accuracy: 0.9856: 20s - loss: 0. - ETA: 1 - ETA: 1s - loss: 0\n"
     ]
    },
    {
     "data": {
      "text/plain": [
       "[0.042413532733917236, 0.9856142401695251]"
      ]
     },
     "execution_count": 18,
     "metadata": {},
     "output_type": "execute_result"
    }
   ],
   "source": [
    "model_vit.evaluate(x_test, y_test)"
   ]
  },
  {
   "cell_type": "code",
   "execution_count": 19,
   "id": "d5ccbe97",
   "metadata": {},
   "outputs": [
    {
     "name": "stdout",
     "output_type": "stream",
     "text": [
      "238/238 [==============================] - 25s 98ms/step\n"
     ]
    }
   ],
   "source": [
    "prediction = model_vit.predict(x_test, verbose=1)"
   ]
  },
  {
   "cell_type": "code",
   "execution_count": 38,
   "id": "491ad9ce",
   "metadata": {},
   "outputs": [
    {
     "name": "stdout",
     "output_type": "stream",
     "text": [
      "238/238 [==============================] - 24s 101ms/step - loss: 0.0424 - accuracy: 0.9856 21s - loss: 0.0465  - ETA: 20s - loss: 0.0416 - a - ETA: 18s - - ETA: 15s - lo - ETA: 12s - loss: 0.0410 - accura - ETA: 11s - loss: 0.0399 - accuracy: - ETA: 10s - loss: 0.0402 - accuracy:  - ETA: 10s - loss: 0. - ETA: 8s - loss: 0.0405 - accu - ETA: 8s - loss: 0.0407 - accuracy: 0.98 - ETA: 8s - loss: 0.0406 - accuracy: 0. - - ETA: 1s - loss: 0.0423 - accu - ETA: 0s - loss: 0.042\n",
      "Test accuracy: 98.56%\n"
     ]
    }
   ],
   "source": [
    "_, accuracy = model_vit.evaluate(x_test, y_test)\n",
    "print(f\"Test accuracy: {round(accuracy * 100, 2)}%\")"
   ]
  },
  {
   "cell_type": "code",
   "execution_count": 37,
   "id": "3b544749",
   "metadata": {},
   "outputs": [
    {
     "data": {
      "image/png": "[encoded data removed]",
      "text/plain": [
       "<Figure size 432x288 with 1 Axes>"
      ]
     },
     "metadata": {
      "needs_background": "light"
     },
     "output_type": "display_data"
    },
    {
     "name": "stdout",
     "output_type": "stream",
     "text": [
      "Model output: [3.0047627e-06 9.9999833e-01 9.9998516e-01 2.3307650e-05 9.9990726e-01\n",
      " 7.1924046e-07 9.9881709e-01 1.8978037e-06]\n",
      "Predictions : [0 1 1 0 1 0 1 0]\n",
      "Ground-truth: [0 1 1 0 1 0 1 0]\n"
     ]
    }
   ],
   "source": [
    "pred_img_num = 900\n",
    "image = np.squeeze(x_test[pred_img_num,:,:,0])\n",
    "plt.imshow(image)\n",
    "plt.show()\n",
    "\n",
    "print(\"Model output:\", (prediction[pred_img_num,:]))\n",
    "print(\"Predictions : [\" + \" \".join([\"{:.0f}\".format(val) for val in prediction[pred_img_num]]) + \"]\")\n",
    "print(\"Ground-truth:\", np.array(y_test[pred_img_num,:]))"
   ]
  },
  {
   "cell_type": "code",
   "execution_count": 44,
   "id": "2c146edb",
   "metadata": {},
   "outputs": [],
   "source": [
    "# Save the weights using the `checkpoint_path` format\n",
    "path_ = r\"C:\\Users\\admin\\Desktop\\PanithanS\\Wafer_defect\"\n",
    "model_vit.save_weights(path_+'\\\\'+'model_vit_01')"
   ]
  },
  {
   "cell_type": "markdown",
   "id": "70bbccbe",
   "metadata": {},
   "source": [
    "# Load model"
   ]
  },
  {
   "cell_type": "code",
   "execution_count": 45,
   "id": "d4f7776b",
   "metadata": {},
   "outputs": [
    {
     "name": "stdout",
     "output_type": "stream",
     "text": [
      "encoded_patches: (None, 16, 96)\n",
      "representation: (None, 1536)\n",
      "features: (None, 1024)\n"
     ]
    },
    {
     "data": {
      "text/plain": [
       "<tensorflow.python.training.tracking.util.CheckpointLoadStatus at 0x13c5629d0f0>"
      ]
     },
     "execution_count": 45,
     "metadata": {},
     "output_type": "execute_result"
    }
   ],
   "source": [
    "model_vit_temp = create_vit_classifier()\n",
    "model_vit_temp.load_weights(path_+'\\\\'+'model_vit_01')"
   ]
  },
  {
   "cell_type": "code",
   "execution_count": 47,
   "id": "0bde1183",
   "metadata": {},
   "outputs": [
    {
     "name": "stdout",
     "output_type": "stream",
     "text": [
      "238/238 [==============================] - 25s 102ms/step\n"
     ]
    },
    {
     "data": {
      "image/png": "[encoded data removed]",
      "text/plain": [
       "<Figure size 432x288 with 1 Axes>"
      ]
     },
     "metadata": {
      "needs_background": "light"
     },
     "output_type": "display_data"
    },
    {
     "name": "stdout",
     "output_type": "stream",
     "text": [
      "Model output: [3.0047627e-06 9.9999833e-01 9.9998516e-01 2.3307650e-05 9.9990726e-01\n",
      " 7.1924046e-07 9.9881709e-01 1.8978037e-06]\n",
      "Predictions : [0 1 1 0 1 0 1 0]\n",
      "Ground-truth: [0 1 1 0 1 0 1 0]\n"
     ]
    }
   ],
   "source": [
    "prediction_temp = model_vit_temp.predict(x_test, verbose=1)\n",
    "\n",
    "pred_img_num = 900\n",
    "image = np.squeeze(x_test[pred_img_num,:,:,0])\n",
    "plt.imshow(image)\n",
    "plt.show()\n",
    "\n",
    "print(\"Model output:\", (prediction[pred_img_num,:]))\n",
    "print(\"Predictions : [\" + \" \".join([\"{:.0f}\".format(val) for val in prediction[pred_img_num]]) + \"]\")\n",
    "print(\"Ground-truth:\", np.array(y_test[pred_img_num,:]))"
   ]
  },
  {
   "cell_type": "code",
   "execution_count": null,
   "id": "2fbbe995",
   "metadata": {},
   "outputs": [],
   "source": []
  }
 ],
 "metadata": {
  "kernelspec": {
   "display_name": "Python 3",
   "language": "python",
   "name": "python3"
  },
  "language_info": {
   "codemirror_mode": {
    "name": "ipython",
    "version": 3
   },
   "file_extension": ".py",
   "mimetype": "text/x-python",
   "name": "python",
   "nbconvert_exporter": "python",
   "pygments_lexer": "ipython3",
   "version": "3.6.13"
  }
 },
 "nbformat": 4,
 "nbformat_minor": 5
}
